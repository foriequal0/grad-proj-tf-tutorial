{
 "cells": [
  {
   "cell_type": "markdown",
   "metadata": {
    "collapsed": true
   },
   "source": [
    "# Nearest Neighbor"
   ]
  },
  {
   "cell_type": "code",
   "execution_count": 1,
   "metadata": {},
   "outputs": [
    {
     "name": "stderr",
     "output_type": "stream",
     "text": [
      "/home/foriequal0/.local/share/virtualenvs/tf-tutorial-pgL6-UTG/lib/python3.6/importlib/_bootstrap.py:219: RuntimeWarning: compiletime version 3.5 of module 'tensorflow.python.framework.fast_tensor_util' does not match runtime version 3.6\n  return f(*args, **kwds)\n"
     ]
    },
    {
     "name": "stdout",
     "output_type": "stream",
     "text": [
      "Extracting /tmp/data/train-images-idx3-ubyte.gz\n"
     ]
    },
    {
     "name": "stdout",
     "output_type": "stream",
     "text": [
      "Extracting /tmp/data/train-labels-idx1-ubyte.gz\nExtracting /tmp/data/t10k-images-idx3-ubyte.gz\nExtracting /tmp/data/t10k-labels-idx1-ubyte.gz\n"
     ]
    }
   ],
   "source": [
    "%matplotlib inline\n",
    "import numpy as np\n",
    "import tensorflow as tf\n",
    "\n",
    "from tensorflow.examples.tutorials.mnist import input_data\n",
    "mnist = input_data.read_data_sets(\"/tmp/data/\", one_hot=True)"
   ]
  },
  {
   "cell_type": "code",
   "execution_count": 2,
   "metadata": {},
   "outputs": [],
   "source": [
    "Xtr, Ytr = mnist.train.next_batch(5000)\n",
    "Xte, Yte = mnist.test.next_batch(200)\n",
    "\n",
    "xtr = tf.placeholder(\"float\", [None, 784])\n",
    "xte = tf.placeholder(\"float\", [784])\n",
    "\n",
    "distance = tf.reduce_sum(tf.abs(tf.add(xtr, tf.negative(xte))), axis=1)\n",
    "\n",
    "pred = tf.argmin(distance, 0)\n",
    "accuracy = 0\n",
    "\n",
    "init = tf.global_variables_initializer()"
   ]
  },
  {
   "cell_type": "code",
   "execution_count": 3,
   "metadata": {},
   "outputs": [
    {
     "name": "stdout",
     "output_type": "stream",
     "text": [
      "Test 0 Predection: 0 True Class: 0\nTest 1 Predection: 3 True Class: 3\nTest 2 Predection: 5 True Class: 5\nTest 3 Predection: 0 True Class: 0\nTest 4 Predection: 1 True Class: 1\nTest 5 Predection: 8 True Class: 8\nTest 6 Predection: 7 True Class: 7\nTest 7 Predection: 1 True Class: 1\nTest 8 Predection: 6 True Class: 6\nTest 9 Predection: 6 True Class: 6\nTest 10 Predection: 1 True Class: 6\nTest 11 Predection: 8 True Class: 2\nTest 12 Predection: 7 True Class: 7\nTest 13 Predection: 1 True Class: 1\nTest 14 Predection: 4 True Class: 4\nTest 15 Predection: 3 True Class: 3\nTest 16 Predection: 3 True Class: 3\nTest 17 Predection: 3 True Class: 3\nTest 18 Predection: 1 True Class: 1\nTest 19 Predection: 5 True Class: 9\nTest 20 Predection: 8 True Class: 8\nTest 21 Predection: 5 True Class: 5\nTest 22 Predection: 8 True Class: 8\nTest 23 Predection: 2 True Class: 2\nTest 24 Predection: 0 True Class: 0\nTest 25 Predection: 3 True Class: 3\n"
     ]
    },
    {
     "name": "stdout",
     "output_type": "stream",
     "text": [
      "Test 26 Predection: 1 True Class: 1\nTest 27 Predection: 3 True Class: 5\nTest 28 Predection: 4 True Class: 4\nTest 29 Predection: 4 True Class: 4\nTest 30 Predection: 6 True Class: 6\nTest 31 Predection: 8 True Class: 8\nTest 32 Predection: 6 True Class: 6\nTest 33 Predection: 0 True Class: 0\nTest 34 Predection: 0 True Class: 0\nTest 35 Predection: 6 True Class: 6\nTest 36 Predection: 4 True Class: 4\nTest 37 Predection: 1 True Class: 1\nTest 38 Predection: 3 True Class: 3\nTest 39 Predection: 4 True Class: 4\nTest 40 Predection: 2 True Class: 2\nTest 41 Predection: 1 True Class: 1\nTest 42 Predection: 1 True Class: 1\nTest 43 Predection: 3 True Class: 5\nTest 44 Predection: 9 True Class: 9\nTest 45 Predection: 6 True Class: 6\nTest 46 Predection: 7 True Class: 7\nTest 47 Predection: 7 True Class: 7\nTest 48 Predection: 2 True Class: 2\nTest 49 Predection: 3 True Class: 3\n"
     ]
    },
    {
     "name": "stdout",
     "output_type": "stream",
     "text": [
      "Test 50 Predection: 2 True Class: 2\nTest 51 Predection: 6 True Class: 6\nTest 52 Predection: 8 True Class: 8\nTest 53 Predection: 2 True Class: 2\nTest 54 Predection: 8 True Class: 8\nTest 55 Predection: 4 True Class: 4\nTest 56 Predection: 1 True Class: 1\nTest 57 Predection: 7 True Class: 7\nTest 58 Predection: 9 True Class: 9\nTest 59 Predection: 9 True Class: 9\nTest 60 Predection: 2 True Class: 8\nTest 61 Predection: 7 True Class: 7\nTest 62 Predection: 7 True Class: 9\nTest 63 Predection: 3 True Class: 8\nTest 64 Predection: 7 True Class: 7\nTest 65 Predection: 4 True Class: 4\nTest 66 Predection: 2 True Class: 2\nTest 67 Predection: 8 True Class: 8\nTest 68 Predection: 8 True Class: 8\nTest 69 Predection: 9 True Class: 9\nTest 70 Predection: 9 True Class: 9\nTest 71 Predection: 4 True Class: 4\nTest 72 Predection: 3 True Class: 3\nTest 73 Predection: 2 True Class: 2\nTest 74 Predection: 0 True Class: 0\nTest 75 Predection: 8 True Class: 8\n"
     ]
    },
    {
     "name": "stdout",
     "output_type": "stream",
     "text": [
      "Test 76 Predection: 4 True Class: 4\nTest 77 Predection: 6 True Class: 6\nTest 78 Predection: 5 True Class: 6\nTest 79 Predection: 3 True Class: 3\nTest 80 Predection: 1 True Class: 9\nTest 81 Predection: 1 True Class: 1\nTest 82 Predection: 0 True Class: 0\nTest 83 Predection: 2 True Class: 2\nTest 84 Predection: 1 True Class: 1\nTest 85 Predection: 9 True Class: 9\nTest 86 Predection: 2 True Class: 2\nTest 87 Predection: 6 True Class: 6\nTest 88 Predection: 6 True Class: 6\nTest 89 Predection: 7 True Class: 7\nTest 90 Predection: 5 True Class: 5\nTest 91 Predection: 6 True Class: 6\nTest 92 Predection: 9 True Class: 9\nTest 93 Predection: 1 True Class: 7\nTest 94 Predection: 5 True Class: 5\nTest 95 Predection: 6 True Class: 6\n"
     ]
    },
    {
     "name": "stdout",
     "output_type": "stream",
     "text": [
      "Test 96 Predection: 4 True Class: 4\nTest 97 Predection: 6 True Class: 6\nTest 98 Predection: 1 True Class: 1\nTest 99 Predection: 3 True Class: 3\nTest 100 Predection: 3 True Class: 3\nTest 101 Predection: 6 True Class: 6\nTest 102 Predection: 9 True Class: 9\nTest 103 Predection: 3 True Class: 3\nTest 104 Predection: 5 True Class: 5\nTest 105 Predection: 0 True Class: 0\nTest 106 Predection: 7 True Class: 7\nTest 107 Predection: 9 True Class: 9\nTest 108 Predection: 3 True Class: 3\nTest 109 Predection: 3 True Class: 5\nTest 110 Predection: 8 True Class: 8\nTest 111 Predection: 9 True Class: 9\nTest 112 Predection: 9 True Class: 4\nTest 113 Predection: 4 True Class: 9\nTest 114 Predection: 6 True Class: 6\nTest 115 Predection: 1 True Class: 1\nTest 116 Predection: 2 True Class: 2\nTest 117 Predection: 1 True Class: 1\nTest 118 Predection: 0 True Class: 0\n"
     ]
    },
    {
     "name": "stdout",
     "output_type": "stream",
     "text": [
      "Test 119 Predection: 3 True Class: 3\nTest 120 Predection: 6 True Class: 6\nTest 121 Predection: 3 True Class: 3\nTest 122 Predection: 8 True Class: 8\nTest 123 Predection: 7 True Class: 7\nTest 124 Predection: 1 True Class: 1\nTest 125 Predection: 2 True Class: 7\nTest 126 Predection: 2 True Class: 2\nTest 127 Predection: 3 True Class: 3\nTest 128 Predection: 7 True Class: 7\nTest 129 Predection: 1 True Class: 1\nTest 130 Predection: 9 True Class: 9\nTest 131 Predection: 1 True Class: 1\nTest 132 Predection: 5 True Class: 5\nTest 133 Predection: 6 True Class: 6\nTest 134 Predection: 0 True Class: 0\nTest 135 Predection: 7 True Class: 7\nTest 136 Predection: 0 True Class: 5\nTest 137 Predection: 9 True Class: 9\nTest 138 Predection: 1 True Class: 1\nTest 139 Predection: 2 True Class: 2\nTest 140 Predection: 8 True Class: 8\nTest 141 Predection: 1 True Class: 1\nTest 142 Predection: 4 True Class: 4\nTest 143 Predection: 4 True Class: 4\nTest 144 Predection: 6 True Class: 6\n"
     ]
    },
    {
     "name": "stdout",
     "output_type": "stream",
     "text": [
      "Test 145 Predection: 8 True Class: 8\nTest 146 Predection: 1 True Class: 1\nTest 147 Predection: 0 True Class: 0\nTest 148 Predection: 9 True Class: 4\nTest 149 Predection: 9 True Class: 9\nTest 150 Predection: 7 True Class: 9\nTest 151 Predection: 0 True Class: 0\nTest 152 Predection: 1 True Class: 1\nTest 153 Predection: 5 True Class: 5\nTest 154 Predection: 8 True Class: 8\nTest 155 Predection: 5 True Class: 5\nTest 156 Predection: 4 True Class: 4\nTest 157 Predection: 2 True Class: 2\nTest 158 Predection: 8 True Class: 8\nTest 159 Predection: 2 True Class: 2\nTest 160 Predection: 7 True Class: 7\nTest 161 Predection: 2 True Class: 2\nTest 162 Predection: 8 True Class: 8\nTest 163 Predection: 1 True Class: 1\nTest 164 Predection: 8 True Class: 8\nTest 165 Predection: 3 True Class: 3\nTest 166 Predection: 3 True Class: 3\nTest 167 Predection: 0 True Class: 0\nTest 168 Predection: 2 True Class: 2\nTest 169 Predection: 4 True Class: 4\nTest 170 Predection: 1 True Class: 1\nTest 171 Predection: 7 True Class: 2\n"
     ]
    },
    {
     "name": "stdout",
     "output_type": "stream",
     "text": [
      "Test 172 Predection: 1 True Class: 1\nTest 173 Predection: 1 True Class: 1\nTest 174 Predection: 1 True Class: 1\nTest 175 Predection: 0 True Class: 0\nTest 176 Predection: 8 True Class: 8\nTest 177 Predection: 3 True Class: 3\nTest 178 Predection: 9 True Class: 4\nTest 179 Predection: 7 True Class: 7\nTest 180 Predection: 1 True Class: 1\nTest 181 Predection: 8 True Class: 8\nTest 182 Predection: 1 True Class: 1\nTest 183 Predection: 9 True Class: 9\nTest 184 Predection: 9 True Class: 9\nTest 185 Predection: 8 True Class: 8\nTest 186 Predection: 3 True Class: 3\nTest 187 Predection: 9 True Class: 9\nTest 188 Predection: 9 True Class: 9\nTest 189 Predection: 9 True Class: 9\nTest 190 Predection: 0 True Class: 0\nTest 191 Predection: 3 True Class: 8\nTest 192 Predection: 8 True Class: 8\nTest 193 Predection: 2 True Class: 8\nTest 194 Predection: 8 True Class: 8\nTest 195 Predection: 8 True Class: 8\nTest 196 Predection: 7 True Class: 7\nTest 197 Predection: 0 True Class: 0\n"
     ]
    },
    {
     "name": "stdout",
     "output_type": "stream",
     "text": [
      "Test 198 Predection: 4 True Class: 4\nTest 199 Predection: 8 True Class: 8\nDone\nAccuracy: 0.8900000000000007\n"
     ]
    }
   ],
   "source": [
    "with tf.Session() as sess:\n",
    "    sess.run(init)\n",
    "    \n",
    "    for i in range(len(Xte)):\n",
    "        nn_index = sess.run(pred, feed_dict={xtr: Xtr, xte: Xte[i, :]})\n",
    "        \n",
    "        prediction = np.argmax(Ytr[nn_index])\n",
    "        trueclass = np.argmax(Yte[i])\n",
    "        print('Test', i, 'Predection:', prediction, \n",
    "              'True Class:', trueclass)\n",
    "        if prediction == trueclass:\n",
    "            accuracy += 1./len(Xte)\n",
    "    print('Done')\n",
    "    print('Accuracy:', accuracy)"
   ]
  },
  {
   "cell_type": "code",
   "execution_count": null,
   "metadata": {},
   "outputs": [],
   "source": []
  }
 ],
 "metadata": {
  "kernelspec": {
   "display_name": "Python 2",
   "language": "python",
   "name": "python2"
  },
  "language_info": {
   "codemirror_mode": {
    "name": "ipython",
    "version": 2
   },
   "file_extension": ".py",
   "mimetype": "text/x-python",
   "name": "python",
   "nbconvert_exporter": "python",
   "pygments_lexer": "ipython2",
   "version": "2.7.6"
  }
 },
 "nbformat": 4,
 "nbformat_minor": 0
}
